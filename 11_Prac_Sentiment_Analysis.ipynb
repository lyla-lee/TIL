{
  "nbformat": 4,
  "nbformat_minor": 0,
  "metadata": {
    "colab": {
      "name": "11 Prac. Sentiment Analysis",
      "provenance": [],
      "collapsed_sections": [],
      "include_colab_link": true
    },
    "kernelspec": {
      "name": "python3",
      "display_name": "Python 3"
    }
  },
  "cells": [
    {
      "cell_type": "markdown",
      "metadata": {
        "id": "view-in-github",
        "colab_type": "text"
      },
      "source": [
        "<a href=\"https://colab.research.google.com/github/lyla-lee/TIL/blob/master/11_Prac_Sentiment_Analysis.ipynb\" target=\"_parent\"><img src=\"https://colab.research.google.com/assets/colab-badge.svg\" alt=\"Open In Colab\"/></a>"
      ]
    },
    {
      "cell_type": "markdown",
      "metadata": {
        "id": "yPyMXdYHE0wn",
        "colab_type": "text"
      },
      "source": [
        "#11장 감정분석(Sentiment Analysis)"
      ]
    },
    {
      "cell_type": "markdown",
      "metadata": {
        "id": "j61gv6QEE71q",
        "colab_type": "text"
      },
      "source": [
        "#11-1 사전기반 감정분석"
      ]
    },
    {
      "cell_type": "code",
      "metadata": {
        "id": "rVgDReTWWlDi",
        "colab_type": "code",
        "colab": {
          "base_uri": "https://localhost:8080/",
          "height": 427
        },
        "outputId": "501b5832-7a84-4177-9f7d-5ff82610da77"
      },
      "source": [
        "#KnuSentiLex 다운로드\n",
        "!wget https://raw.githubusercontent.com/park1200656/KnuSentiLex/master/pos_pol_word.txt\n",
        "!wget https://raw.githubusercontent.com/park1200656/KnuSentiLex/master/neg_pol_word.txt"
      ],
      "execution_count": null,
      "outputs": [
        {
          "output_type": "stream",
          "text": [
            "--2020-07-27 00:48:19--  https://raw.githubusercontent.com/park1200656/KnuSentiLex/master/pos_pol_word.txt\n",
            "Resolving raw.githubusercontent.com (raw.githubusercontent.com)... 151.101.0.133, 151.101.64.133, 151.101.128.133, ...\n",
            "Connecting to raw.githubusercontent.com (raw.githubusercontent.com)|151.101.0.133|:443... connected.\n",
            "HTTP request sent, awaiting response... 200 OK\n",
            "Length: 85007 (83K) [text/plain]\n",
            "Saving to: ‘pos_pol_word.txt’\n",
            "\n",
            "\rpos_pol_word.txt      0%[                    ]       0  --.-KB/s               \rpos_pol_word.txt    100%[===================>]  83.01K  --.-KB/s    in 0.03s   \n",
            "\n",
            "2020-07-27 00:48:19 (2.74 MB/s) - ‘pos_pol_word.txt’ saved [85007/85007]\n",
            "\n",
            "--2020-07-27 00:48:21--  https://raw.githubusercontent.com/park1200656/KnuSentiLex/master/neg_pol_word.txt\n",
            "Resolving raw.githubusercontent.com (raw.githubusercontent.com)... 151.101.0.133, 151.101.64.133, 151.101.128.133, ...\n",
            "Connecting to raw.githubusercontent.com (raw.githubusercontent.com)|151.101.0.133|:443... connected.\n",
            "HTTP request sent, awaiting response... 200 OK\n",
            "Length: 176542 (172K) [text/plain]\n",
            "Saving to: ‘neg_pol_word.txt’\n",
            "\n",
            "neg_pol_word.txt    100%[===================>] 172.40K  --.-KB/s    in 0.04s   \n",
            "\n",
            "2020-07-27 00:48:21 (3.83 MB/s) - ‘neg_pol_word.txt’ saved [176542/176542]\n",
            "\n"
          ],
          "name": "stdout"
        }
      ]
    },
    {
      "cell_type": "code",
      "metadata": {
        "id": "jgRfxDvaz-pT",
        "colab_type": "code",
        "colab": {
          "base_uri": "https://localhost:8080/",
          "height": 925
        },
        "outputId": "64d15e15-fed3-4ce9-f301-fa3d4e770221"
      },
      "source": [
        "!head -50 pos_pol_word.txt"
      ],
      "execution_count": null,
      "outputs": [
        {
          "output_type": "stream",
          "text": [
            "출처\r\n",
            "1) 표준국어대사전 뜻풀이\r\n",
            "-> https://github.com/mrchypark/stdkor\r\n",
            "2) 신조어\r\n",
            "-> https://ko.wikipedia.org/wiki/%EB%8C%80%ED%95%9C%EB%AF%BC%EA%B5%AD%EC%9D%98_%EC%9D%B8%ED%84%B0%EB%84%B7_%EC%8B%A0%EC%A1%B0%EC%96%B4_%EB%AA%A9%EB%A1%9D\r\n",
            "3) 이모티콘\r\n",
            "-> https://ko.wikipedia.org/wiki/%EC%9D%B4%EB%AA%A8%ED%8B%B0%EC%BD%98\r\n",
            "4) SentiWordNet_3.0.0_20130122\r\n",
            "-> http://sentiwordnet.isti.cnr.it/\r\n",
            "5) SenticNet-5.0\r\n",
            "-> http://sentic.net/\r\n",
            "6) 감정단어사전0603\r\n",
            "-> http://datascience.khu.ac.kr/board/bbs/board.php?bo_table=05_01&wr_id=91 \r\n",
            "7) 김은영, “국어 감정동사 연구”, 2004.02, 학위논문(박사) - 전남대학교 국어국문학과 대학원\r\n",
            "\r\n",
            "\r\n",
            "단어 수 : 4863\r\n",
            "극성 : 긍정\r\n",
            "\r\n",
            "(-;\r\n",
            "(^^)\r\n",
            "(^-^)\r\n",
            "(^^*\r\n",
            "(^_^)\r\n",
            "(^o^)\r\n",
            "*^^*\r\n",
            "/^o^\\\r\n",
            ":(\r\n",
            ":'-(\r\n",
            ":-(\r\n",
            ":-)\r\n",
            ":|\r\n",
            ";\r\n",
            ";)\r\n",
            ";-)\r\n",
            "^///^\r\n",
            "^^\r\n",
            "^^//\r\n",
            "<3\r\n",
            "=)\r\n",
            "XD\r\n",
            "ㄱㅅ\r\n",
            "ㄱㅇㄷ\r\n",
            "가격이 싸다\r\n",
            "가까이 사귀어\r\n",
            "가까이하다\r\n",
            "가다듬어\r\n",
            "가다듬어 수습하는\r\n",
            "가다듬어 수습하다\r\n",
            "가다듬어 정하다\r\n"
          ],
          "name": "stdout"
        }
      ]
    },
    {
      "cell_type": "code",
      "metadata": {
        "id": "p3o_a5Zoc7Qy",
        "colab_type": "code",
        "colab": {
          "base_uri": "https://localhost:8080/",
          "height": 72
        },
        "outputId": "19283485-17b7-45bc-f1ec-3d21921f6d3d"
      },
      "source": [
        "dct = {}\n",
        "\n",
        "# 긍정단어 조회\n",
        "with open(\"pos_pol_word.txt\",'r') as f:\n",
        "  dct['pos'] = f.read().split('\\n')[19:]\n",
        "# 부정단어 조회\n",
        "with open('neg_pol_word.txt', 'r') as f:\n",
        "  dct['neg'] = f.read().split('\\n')[19:]\n",
        "\n",
        "print(dct['pos'][:10])\n",
        "print(dct['neg'][:10])"
      ],
      "execution_count": null,
      "outputs": [
        {
          "output_type": "stream",
          "text": [
            "['(-;', '(^^)', '(^-^)', '(^^*', '(^_^)', '(^o^)', '*^^*', '/^o^\\\\', ':(', \":'-(\"]\n",
            "['가난', '가난뱅이', '가난살이', '가난살이하다', '가난설음', '가난에', '가난에 쪼들려서', '가난하게', '가난하고', '가난하고 어렵다']\n"
          ],
          "name": "stdout"
        }
      ]
    },
    {
      "cell_type": "code",
      "metadata": {
        "id": "IzR_KFqQQ-pN",
        "colab_type": "code",
        "colab": {}
      },
      "source": [
        "txt = \"코로나19의 여파로 전 세계 교사들과 학생들 모두 혼란스러운 시기를 보내고 있습니다. 초유의 상황에서도, 학생들을 위해 최선을 다하려는 선생님들의 노력이 계속되고 있는데요. 어려움 속에서, 선생님들은 어떤 방법으로 사랑을 전하고 있을까요? 뉴스G에서 전해드립니다. [리포트] 중국 저장성의 한 산골 마을. 초등학교 교사 왕진량 씨는 지난 2월 말부터, 매일 새벽 다섯 시면 부지런히 집을 나섭니다. 온라인 수업을 받을 수 없는, 깊은 산골 마을에 살고 있는 학생들을 찾아가기 위해서인데요. 선생님이 하루 동안 이동하는 거리는 대략 30km정도. 차도 없이 도보로 네 개의 마을을 돌아다니며 학생들을 만납니다. 매일 이어지는 강행군이지만, 오로지 아이들의 학습이 중단되어서는 안 된다는 생각뿐입니다. 혹시 모를 사태에 대비해 학생들과의 접촉은 최대한 줄입니다. 숙제를 내주고, 검사 후에 모르는 문제를 알려주는 식으로 일대일 수업을 진행하고 있는데요. 아이들에게 배우는 즐거움이 얼마나 소중한 것인지 잘 알기에, 선생님은 이렇게라도 수업을 할 수 있다는 데서 행복을 느낍니다. 영국의 한 초등학교 교사인 젠 포울스 씨는 매일 아침, 무거운 짐을 앞 뒤, 양 옆으로 짊어지고 씩씩하게 발걸음을 옮깁니다. 코로나19로 학교가 문을 닫은 뒤, 형편이 어려운 학생들을 위해 매일 78인분의 점심 도시락을 배달하고 있는데요. 선생님이 재직 중인 초등학교는 전체 학생의 41퍼센트가 무상 급식 대상자이기 때문입니다. 도시락의 무게는 18kg, 걸어야 하는 거리는 8km에 달하지만 기다리는 학생들을 생각하며 지치지 않고 발걸음을 재촉합니다. 학생들은 창문을 통해서 반갑게 인사하기도 하고, 선생님이 볼 수 있게 감사 메시지를 붙여 놓기도 하는데요. 선생님이 정성껏 준비해 손수 배달한 사랑의 도시락. 봉쇄된 도시의 굶주린 아이들에게 소중한 한 끼 식사, 그 이상의 의미가 되고 있습니다. 미국 사우스다코타 주의 중학교 수학 교사인 크리스 와바 씨는, 커다란 화이트보드를 들고 학생의 집을 찾았습니다. 온라인 수업 후, 학생에게 이메일로 방정식 풀이법에 대한 질문을 받았기 때문인데요. 이메일로 답변해주는 것보다 직접 풀이 과정을 보여주는 게 낫다는 생각이었죠. 깜짝 놀란 학생을 마주한 채, 선생님은 현관문 앞에서 열정적으로 문제를 풀기 시작했습니다. 이 열정적인 강의는, 학생이 풀이법을 완벽히 이해할 때까지 이어졌는데요. 바이러스는 전 세계 교실에 혼란을 불러왔지만, 선생님들의 노력은 저마다의 방식으로 계속되고 있습니다. 어려움 속에서도 학생들을 위해 안간힘을 쓰고 있는 모든 선생님들에게, 응원과 박수를 함께 보냅니다.\""
      ],
      "execution_count": null,
      "outputs": []
    },
    {
      "cell_type": "code",
      "metadata": {
        "id": "ZTgyj8kJSCkG",
        "colab_type": "code",
        "colab": {}
      },
      "source": [
        "def analye_sentiment(txt, dct) :\n",
        "  pos = []\n",
        "  neg = []\n",
        "\n",
        "  for p in dct['pos']:\n",
        "    if p in txt:\n",
        "      pos.append(p)\n",
        "  \n",
        "  for p in dct['neg']:\n",
        "    if p in txt:\n",
        "      neg.append(p)\n",
        "  \n",
        "   \n",
        "  return (len(pos)/(len(pos) + len(neg)), pos), (len(neg)/(len(pos) + len(neg)), neg)"
      ],
      "execution_count": null,
      "outputs": []
    },
    {
      "cell_type": "code",
      "metadata": {
        "id": "TVRRF_5SSiNf",
        "colab_type": "code",
        "colab": {
          "base_uri": "https://localhost:8080/",
          "height": 72
        },
        "outputId": "bdc49008-d5bf-48ad-999f-80daeb1575a6"
      },
      "source": [
        "pos, neg = analye_sentiment(txt, dct)\n",
        "print(pos)\n",
        "print(neg)"
      ],
      "execution_count": null,
      "outputs": [
        {
          "output_type": "stream",
          "text": [
            "(0.6470588235294118, ['낫다', '대상', '사랑을', '씩씩하게', '열정', '운', '잘', '정', '정성껏', '함께', '감사', '복을', '부지런', '부지런히', '사랑', '사랑의', '소중한', '즐거움', '즐거움이', '행복', '행복을', ''])\n",
            "(0.35294117647058826, ['방정', '어려운', '어려움', '해', '혼란스러운', '화', '굶주린', '모르는', '바이러스', '우는', '짐', ''])\n"
          ],
          "name": "stdout"
        }
      ]
    },
    {
      "cell_type": "markdown",
      "metadata": {
        "id": "CUdkMF41Tt3x",
        "colab_type": "text"
      },
      "source": [
        "(0.6470588235294118, ['낫다', '대상', '사랑을', '씩씩하게', '열정', '운', '잘', '정', '정성껏', '함께', '감사', '복을', '부지런', '부지런히', '사랑', '사랑의', '소중한', '즐거움', '즐거움이', '행복', '행복을', ''])\n",
        "(0.35294117647058826, ['방정', '어려운', '어려움', '해', '혼란스러운', '화', '굶주린', '모르는', '바이러스', '우는', '짐', ''])"
      ]
    },
    {
      "cell_type": "markdown",
      "metadata": {
        "id": "anKdEE0eEk8z",
        "colab_type": "text"
      },
      "source": [
        "# 11-2 나이브 베이즈 분류기 활용 감정분석"
      ]
    },
    {
      "cell_type": "markdown",
      "metadata": {
        "id": "xTVyt3BRKY7M",
        "colab_type": "text"
      },
      "source": [
        "## 2.1 간단 예제"
      ]
    },
    {
      "cell_type": "code",
      "metadata": {
        "id": "IoLvW8daCLbo",
        "colab_type": "code",
        "colab": {}
      },
      "source": [
        "text = [(\"I love you\", \"P\"),\n",
        "        (\"love happy weekend\", \"P\"),\n",
        "        (\"bore work job\", \"N\"),\n",
        "        (\"I hate you\", \"N\"),\n",
        "        (\"bore weekend\", \"N\"),\n",
        "        (\"happy together\", \"P\")]"
      ],
      "execution_count": null,
      "outputs": []
    },
    {
      "cell_type": "code",
      "metadata": {
        "id": "tUNAlJcICqQj",
        "colab_type": "code",
        "colab": {
          "base_uri": "https://localhost:8080/",
          "height": 123
        },
        "outputId": "7ea2277c-918b-46f5-9239-4a63edb45e6a"
      },
      "source": [
        "X_train = [t[0] for t in text]\n",
        "Y_train = [t[1] for t in text]\n",
        "X_train"
      ],
      "execution_count": null,
      "outputs": [
        {
          "output_type": "execute_result",
          "data": {
            "text/plain": [
              "['I love you',\n",
              " 'love happy weekend',\n",
              " 'bore work job',\n",
              " 'I hate you',\n",
              " 'bore weekend',\n",
              " 'happy together']"
            ]
          },
          "metadata": {
            "tags": []
          },
          "execution_count": 39
        }
      ]
    },
    {
      "cell_type": "code",
      "metadata": {
        "id": "b8MGr_sZibyp",
        "colab_type": "code",
        "colab": {}
      },
      "source": [
        "from sklearn.feature_extraction.text import CountVectorizer\n",
        "from sklearn.feature_extraction.text import TfidfTransformer\n",
        "from sklearn.naive_bayes import MultinomialNB\n",
        "\n",
        "\n",
        "count_vect = CountVectorizer()\n",
        "X_train_counts = count_vect.fit_transform(X_train)\n",
        "clf = MultinomialNB().fit(X_train_counts, Y_train)"
      ],
      "execution_count": null,
      "outputs": []
    },
    {
      "cell_type": "code",
      "metadata": {
        "id": "x8zJ50ooDOTq",
        "colab_type": "code",
        "colab": {
          "base_uri": "https://localhost:8080/",
          "height": 52
        },
        "outputId": "aa76fa5a-c375-4145-d225-65fefc9f1417"
      },
      "source": [
        "print(clf.predict(count_vect.transform([\"happy weekend\"])))\n",
        "print(clf.predict_proba(count_vect.transform([\"happy weekend\"])))"
      ],
      "execution_count": null,
      "outputs": [
        {
          "output_type": "stream",
          "text": [
            "['P']\n",
            "[[0.25 0.75]]\n"
          ],
          "name": "stdout"
        }
      ]
    },
    {
      "cell_type": "markdown",
      "metadata": {
        "id": "ZFINscB8FS7Q",
        "colab_type": "text"
      },
      "source": [
        "## 2.2 네이버 영화 리뷰 감정분석"
      ]
    },
    {
      "cell_type": "code",
      "metadata": {
        "id": "ovFtoItjDfFs",
        "colab_type": "code",
        "colab": {
          "base_uri": "https://localhost:8080/",
          "height": 321
        },
        "outputId": "ff50f616-915e-442f-9720-c183ff3d08e7"
      },
      "source": [
        "# 네이버 영화 리뷰 다운로드\n",
        "!wget https://github.com/e9t/nsmc/raw/master/ratings.txt"
      ],
      "execution_count": null,
      "outputs": [
        {
          "output_type": "stream",
          "text": [
            "--2020-07-27 01:45:32--  https://github.com/e9t/nsmc/raw/master/ratings.txt\n",
            "Resolving github.com (github.com)... 140.82.112.3\n",
            "Connecting to github.com (github.com)|140.82.112.3|:443... connected.\n",
            "HTTP request sent, awaiting response... 302 Found\n",
            "Location: https://raw.githubusercontent.com/e9t/nsmc/master/ratings.txt [following]\n",
            "--2020-07-27 01:45:32--  https://raw.githubusercontent.com/e9t/nsmc/master/ratings.txt\n",
            "Resolving raw.githubusercontent.com (raw.githubusercontent.com)... 151.101.0.133, 151.101.64.133, 151.101.128.133, ...\n",
            "Connecting to raw.githubusercontent.com (raw.githubusercontent.com)|151.101.0.133|:443... connected.\n",
            "HTTP request sent, awaiting response... 200 OK\n",
            "Length: 19515078 (19M) [text/plain]\n",
            "Saving to: ‘ratings.txt’\n",
            "\n",
            "ratings.txt         100%[===================>]  18.61M  33.7MB/s    in 0.6s    \n",
            "\n",
            "2020-07-27 01:45:33 (33.7 MB/s) - ‘ratings.txt’ saved [19515078/19515078]\n",
            "\n"
          ],
          "name": "stdout"
        }
      ]
    },
    {
      "cell_type": "code",
      "metadata": {
        "id": "_zj-zIea9JzR",
        "colab_type": "code",
        "colab": {
          "base_uri": "https://localhost:8080/",
          "height": 231
        },
        "outputId": "fdb45c62-a9ed-4d3d-93b6-7ffdc475bb35"
      },
      "source": [
        "import pandas as pd\n",
        "naver = pd.read_csv('ratings.txt',delimiter=\"\\t\").dropna()  # txt 파일 csv로 읽기 (\\t)\n",
        "naver.head()"
      ],
      "execution_count": null,
      "outputs": [
        {
          "output_type": "execute_result",
          "data": {
            "text/html": [
              "<div>\n",
              "<style scoped>\n",
              "    .dataframe tbody tr th:only-of-type {\n",
              "        vertical-align: middle;\n",
              "    }\n",
              "\n",
              "    .dataframe tbody tr th {\n",
              "        vertical-align: top;\n",
              "    }\n",
              "\n",
              "    .dataframe thead th {\n",
              "        text-align: right;\n",
              "    }\n",
              "</style>\n",
              "<table border=\"1\" class=\"dataframe\">\n",
              "  <thead>\n",
              "    <tr style=\"text-align: right;\">\n",
              "      <th></th>\n",
              "      <th>id</th>\n",
              "      <th>document</th>\n",
              "      <th>label</th>\n",
              "    </tr>\n",
              "  </thead>\n",
              "  <tbody>\n",
              "    <tr>\n",
              "      <th>0</th>\n",
              "      <td>8112052</td>\n",
              "      <td>어릴때보고 지금다시봐도 재밌어요ㅋㅋ</td>\n",
              "      <td>1</td>\n",
              "    </tr>\n",
              "    <tr>\n",
              "      <th>1</th>\n",
              "      <td>8132799</td>\n",
              "      <td>디자인을 배우는 학생으로, 외국디자이너와 그들이 일군 전통을 통해 발전해가는 문화산...</td>\n",
              "      <td>1</td>\n",
              "    </tr>\n",
              "    <tr>\n",
              "      <th>2</th>\n",
              "      <td>4655635</td>\n",
              "      <td>폴리스스토리 시리즈는 1부터 뉴까지 버릴께 하나도 없음.. 최고.</td>\n",
              "      <td>1</td>\n",
              "    </tr>\n",
              "    <tr>\n",
              "      <th>3</th>\n",
              "      <td>9251303</td>\n",
              "      <td>와.. 연기가 진짜 개쩔구나.. 지루할거라고 생각했는데 몰입해서 봤다.. 그래 이런...</td>\n",
              "      <td>1</td>\n",
              "    </tr>\n",
              "    <tr>\n",
              "      <th>4</th>\n",
              "      <td>10067386</td>\n",
              "      <td>안개 자욱한 밤하늘에 떠 있는 초승달 같은 영화.</td>\n",
              "      <td>1</td>\n",
              "    </tr>\n",
              "  </tbody>\n",
              "</table>\n",
              "</div>"
            ],
            "text/plain": [
              "         id                                           document  label\n",
              "0   8112052                                어릴때보고 지금다시봐도 재밌어요ㅋㅋ      1\n",
              "1   8132799  디자인을 배우는 학생으로, 외국디자이너와 그들이 일군 전통을 통해 발전해가는 문화산...      1\n",
              "2   4655635               폴리스스토리 시리즈는 1부터 뉴까지 버릴께 하나도 없음.. 최고.      1\n",
              "3   9251303  와.. 연기가 진짜 개쩔구나.. 지루할거라고 생각했는데 몰입해서 봤다.. 그래 이런...      1\n",
              "4  10067386                        안개 자욱한 밤하늘에 떠 있는 초승달 같은 영화.      1"
            ]
          },
          "metadata": {
            "tags": []
          },
          "execution_count": 44
        }
      ]
    },
    {
      "cell_type": "code",
      "metadata": {
        "id": "gJnjV-KQFnga",
        "colab_type": "code",
        "colab": {}
      },
      "source": [
        "from sklearn.model_selection import train_test_split\n",
        "from sklearn.feature_extraction.text import CountVectorizer\n",
        "from sklearn.feature_extraction.text import TfidfTransformer\n",
        "from sklearn.naive_bayes import MultinomialNB\n",
        "import pandas as pd\n",
        "import numpy as np\n",
        "\n",
        "X_train, X_test, y_train, y_test = train_test_split(naver['document'],naver['label'],\n",
        "                                                    random_state=0)\n",
        "count_vect = CountVectorizer()\n",
        "X_train_counts = count_vect.fit_transform(X_train)\n",
        "tfidf_transformer = TfidfTransformer()\n",
        "X_train_tfidf = tfidf_transformer.fit_transform(X_train_counts)\n",
        "\n",
        "clf = MultinomialNB().fit(X_train_tfidf,y_train)\n"
      ],
      "execution_count": null,
      "outputs": []
    },
    {
      "cell_type": "code",
      "metadata": {
        "id": "2Qecu_93Hwu7",
        "colab_type": "code",
        "colab": {
          "base_uri": "https://localhost:8080/",
          "height": 232
        },
        "outputId": "4001f242-bce9-43c4-f43a-df98148abf2f"
      },
      "source": [
        "X_test[:10]"
      ],
      "execution_count": null,
      "outputs": [
        {
          "output_type": "execute_result",
          "data": {
            "text/plain": [
              "78888                     진짜 개웃김 ㅋㅋㅋ 이런 코드너무 좋다 언능 2나왔음 좋겠다\n",
              "49058     고속버스타고 가는 길에 핸드폰으로 보다가 울었네요 ㅠㅠ 아 슬픈듯.. 개인적으로 진...\n",
              "101711                           개성 없는 모방 일색의 유치하고 가벼운 오락물.\n",
              "97260     상처가없는이들에겐 갖혀있는소녀의 저질액션 미친영화이겠으나 나에겐 꿈처럼시작해서 미련...\n",
              "53590                               아 다시 보고 싶은데 디비디가 안나온다..\n",
              "62095                                            김민종씨 멋집니다.\n",
              "36349          무식하게 거대한 원양어선으로 대량포획하는 미국, 일본 등등 국가들은 반성해라!!\n",
              "151288                                        콜럼버스는 사기꾼이었다!\n",
              "88072                                           재미있어요 재미있어요\n",
              "117532    일주일에 한번봐도 대충 내용이 감이 오는 뻔한 스토리젤 짜증나는건 민세현? 연기 못...\n",
              "Name: document, dtype: object"
            ]
          },
          "metadata": {
            "tags": []
          },
          "execution_count": 48
        }
      ]
    },
    {
      "cell_type": "code",
      "metadata": {
        "id": "6cyGTLF1DMxT",
        "colab_type": "code",
        "colab": {
          "base_uri": "https://localhost:8080/",
          "height": 34
        },
        "outputId": "afe4085f-8c8f-438f-9a3a-8c13fe50ba1a"
      },
      "source": [
        "X_new_counts = count_vect.transform(X_test)\n",
        "X_new_tfidf = tfidf_transformer.transform(X_new_counts)\n",
        "\n",
        "predicted = clf.predict(X_new_tfidf)\n",
        "np.mean(predicted == y_test)"
      ],
      "execution_count": null,
      "outputs": [
        {
          "output_type": "execute_result",
          "data": {
            "text/plain": [
              "0.8322332893315733"
            ]
          },
          "metadata": {
            "tags": []
          },
          "execution_count": 49
        }
      ]
    },
    {
      "cell_type": "code",
      "metadata": {
        "id": "05unGSj5-xNR",
        "colab_type": "code",
        "colab": {}
      },
      "source": [
        ""
      ],
      "execution_count": null,
      "outputs": []
    }
  ]
}